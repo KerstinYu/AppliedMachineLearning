{
 "cells": [
  {
   "cell_type": "markdown",
   "metadata": {},
   "source": [
    "## Assignment3  - Tianxin YU\n",
    "\n",
    "### Learning Objectives\n",
    "\n",
    "1.\tGain insight into trade-offs between Naïve Bayes and SVM\n",
    "2.\tAnalyze the effect of skewness of distribution of class attribute values on classification performance\n",
    "3.\tLearn about smoothing\n",
    "4.\tGet some programming experience (if you take the programming option)\n",
    "\n"
   ]
  },
  {
   "cell_type": "code",
   "execution_count": null,
   "metadata": {
    "collapsed": true
   },
   "outputs": [],
   "source": []
  }
 ],
 "metadata": {
  "kernelspec": {
   "display_name": "Python [Root]",
   "language": "python",
   "name": "Python [Root]"
  },
  "language_info": {
   "codemirror_mode": {
    "name": "ipython",
    "version": 2
   },
   "file_extension": ".py",
   "mimetype": "text/x-python",
   "name": "python",
   "nbconvert_exporter": "python",
   "pygments_lexer": "ipython2",
   "version": "2.7.12"
  }
 },
 "nbformat": 4,
 "nbformat_minor": 0
}
